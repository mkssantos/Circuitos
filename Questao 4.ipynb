{
  "metadata": {
    "language_info": {
      "codemirror_mode": {
        "name": "python",
        "version": 3
      },
      "file_extension": ".py",
      "mimetype": "text/x-python",
      "name": "python",
      "nbconvert_exporter": "python",
      "pygments_lexer": "ipython3",
      "version": "3.8"
    },
    "kernelspec": {
      "name": "python",
      "display_name": "Python (Pyodide)",
      "language": "python"
    }
  },
  "nbformat_minor": 4,
  "nbformat": 4,
  "cells": [
    {
      "cell_type": "code",
      "source": "pip install sympy",
      "metadata": {},
      "execution_count": null,
      "outputs": []
    },
    {
      "cell_type": "code",
      "source": "from sympy import *",
      "metadata": {},
      "execution_count": null,
      "outputs": []
    },
    {
      "cell_type": "code",
      "source": "import numpy as np\nimport pandas as pd",
      "metadata": {},
      "execution_count": null,
      "outputs": []
    },
    {
      "cell_type": "code",
      "source": "A = np.array([\n    [1] + [0 for i in range(8)] + [-9] + [0 for i in range(4)],\n    [0, 1] + [0 for i in range(7)] + [-11] + [0 for i in range(4)],\n    [0, 0, 1] + [0 for i in range(6)] + [-10] + [0 for i in range(4)],\n    [0 for i in range(3)] + [1] + [0 for i in range(9)] + [-4],\n    [0 for i in range(4)] + [1] + [0 for i in range(8)] + [-16],\n    [0 for i in range(5)] + [1] + [0 for i in range(8)],\n    [0 for i in range(7)] + [1, 0, 0, -5] + [0 for i in range(3)],\n    [0 for i in range(8)] + [1, 0, 0, -30, 0, 0],\n    [0 for i in range(9)] + [1, 1, 0, 0, 0],\n    [0 for i in range(10)] + [1, -1, -1, 0],\n    [0 for i in range(9)] + [-1, 0, -1, 0, 1],\n    [0 for i in range(6)] + [-1, 0, 0, 0, -5, 0, 0, 0],\n    [0 for i in range(6)] + [1, 0, 0, 0, 0, -30, 0, -20],\n    [0 for i in range(9)] + [-30, 5, 30, 0, 0]\n])",
      "metadata": {},
      "execution_count": null,
      "outputs": []
    },
    {
      "cell_type": "code",
      "source": "B = np.array(\n    [[0] for i in range(5)] + [[60], [0], [0], [-4], [0], [0], [-160], [0], [0]]\n)",
      "metadata": {},
      "execution_count": null,
      "outputs": []
    },
    {
      "cell_type": "code",
      "source": "pip nomes_variaveis = ['V_a', 'V_b', 'V_c', 'V_d', 'V_e', 'V_f', 'V_g', 'V_h', 'V_i', 'i_1', 'i_2', 'i_3', 'i_4', 'i_5']\n sympy",
      "metadata": {},
      "execution_count": null,
      "outputs": []
    },
    {
      "cell_type": "code",
      "source": "pip resultados = np.linalg.solve(A, B).ravel()\n sympy",
      "metadata": {},
      "execution_count": null,
      "outputs": []
    },
    {
      "cell_type": "code",
      "source": "pip from IPython.display import display, Markdown, Latex\n\nunidade = {}\n# 1. Definindo as unidades das variáveis de tensão como Volt\nfor nome_variavel in nomes_variaveis[0:9]:\n    unidade[nome_variavel] = 'V'\n    \n# 2. Definindo as unidades das variáveis de corrente como Ampére\nfor nome_variavel in nomes_variaveis[9:14]:\n    unidade[nome_variavel] = 'A'\n    \n# criando string para armazenar o resultado em formato latex\n\nresultado_tex = '''$$\n\\\\begin{align}\n'''\n\n# adicionando cada resultado em resultado_tex em formato latex\n\nfor nome_variavel, resultado in zip(nomes_variaveis, resultados):\n    resultado_tex += '    &{} = {:.2f}{}\\\\\\\\\\n'.format(nome_variavel, resultado, unidade[nome_variavel])\n\n# finalizando a string\n\nresultado_tex += '''\\end{align}\n$$\n'''\ndisplay(Markdown(resultado_tex)) sympy",
      "metadata": {
        "trusted": true
      },
      "execution_count": 1,
      "outputs": [
        {
          "ename": "<class 'SyntaxError'>",
          "evalue": "invalid syntax (<ipython-input-1-fd7169b374c8>, line 1)",
          "traceback": [
            "\u001b[0;36m  Cell \u001b[0;32mIn[1], line 1\u001b[0;36m\u001b[0m\n\u001b[0;31m    pip from IPython.display import display, Markdown, Latex\u001b[0m\n\u001b[0m        ^\u001b[0m\n\u001b[0;31mSyntaxError\u001b[0m\u001b[0;31m:\u001b[0m invalid syntax\n"
          ],
          "output_type": "error"
        }
      ]
    },
    {
      "cell_type": "code",
      "source": "",
      "metadata": {},
      "execution_count": null,
      "outputs": []
    }
  ]
}